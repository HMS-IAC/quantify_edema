{
 "cells": [
  {
   "cell_type": "markdown",
   "metadata": {},
   "source": [
    "# 2.2 Export segments"
   ]
  },
  {
   "cell_type": "markdown",
   "metadata": {},
   "source": [
    "### 2.2.2. Make a folder for images to be exported  \n",
    "First, make a folder inside your QuPath project folder named ```export```.  \n",
    "This is where the exported images will be saved. Your folder structure should look like this:  \n",
    "\n",
    "**qupath_project**\n",
    "- **classifiers**\n",
    "  - `classes.json`\n",
    "  - **pixel_classifiers**\n",
    "    - `edema_20241006.json`\n",
    "    - `gaps_tutorial.json`\n",
    "    - `tissue_background.json`\n",
    "- **data** \n",
    "- `project.qpproj`\n",
    "- `project.qpproj.backup`\n",
    "- **scripts**\n",
    "  - `segment_gaps.groovy`\n",
    "  - `segment_tissue.groovy`\n",
    "  - `training_annotation.groovy`\n",
    "  - `training_annotation_gaps.groovy`\n",
    "- **export** "
   ]
  },
  {
   "cell_type": "markdown",
   "metadata": {},
   "source": [
    "### 2.2.3 Export segmentation from QuPath \n",
    "Run the following script in QuPath to export the gap segmentation.  \n",
    "**name_tissue**: write the name of the tissue segments here within quotation marks  \n",
    "**name_gaps**: write the name of the gap segments within QuPath here, using quotation marks  \n",
    "\n",
    "Images will be saved as tiff files. "
   ]
  },
  {
   "cell_type": "code",
   "execution_count": null,
   "metadata": {},
   "outputs": [],
   "source": [
    "import qupath.lib.images.servers.LabeledImageServer\n",
    "\n",
    "name_tissue = 'tissue'\n",
    "name_gaps = 'fluid'\n",
    "\n",
    "\n",
    "fluid = getAnnotationObjects().findAll{it.getPathClass() == getPathClass(name_gaps)}\n",
    "\n",
    "\n",
    "if (fluid) {\n",
    "    \n",
    "    def imageData = getCurrentImageData()\n",
    "    \n",
    "    // Define output path (relative to project)\n",
    "    def name = GeneralTools.getNameWithoutExtension(imageData.getServer().getMetadata().getName())\n",
    "    def pathOutput = buildFilePath(PROJECT_BASE_DIR, 'export', name)\n",
    "    mkdirs(pathOutput)\n",
    "    \n",
    "    // Define output resolution\n",
    "    // double requestedPixelSize = 1.0\n",
    "    \n",
    "    // Convert to downsample. Factor of 1 means no downsampling. \n",
    "    double downsample = 1.0 //requestedPixelSize / imageData.getServer().getPixelCalibration().getAveragedPixelSize()\n",
    "    \n",
    "    // Create an ImageServer where the pixels are derived from annotations\n",
    "    def edemaServer = new LabeledImageServer.Builder(imageData)\n",
    "        .backgroundLabel(0, ColorTools.WHITE) // Specify background label (usually 0 or 255)\n",
    "        .downsample(downsample)    // Choose server resolution; this should match the resolution at which tiles are exported\n",
    "        .addLabel(name_gaps, 1)\n",
    "        .grayscale()\n",
    "        .multichannelOutput(false) // If true, each label refers to the channel of a multichannel binary image (required for multiclass probability)\n",
    "        .build()\n",
    "    \n",
    "    def tissueServer = new LabeledImageServer.Builder(imageData)\n",
    "        .backgroundLabel(0, ColorTools.WHITE) // Specify background label (usually 0 or 255)\n",
    "        .downsample(downsample)    // Choose server resolution; this should match the resolution at which tiles are exported\n",
    "        .addLabel(name_tissue, 1)      // Choose output labels (the order matters!)\n",
    "        .grayscale()\n",
    "        .multichannelOutput(false) // If true, each label refers to the channel of a multichannel binary image (required for multiclass probability)\n",
    "        .build()\n",
    "    \n",
    "    \n",
    "    // Export things within the tissue bounding box \n",
    "    annotation = getAnnotationObjects().find{it.getPathClass() == getPathClass(name_tissue)}\n",
    "    def edema_region = RegionRequest.createInstance(edemaServer.getPath(), downsample, annotation.getROI())\n",
    "    def tissue_region = RegionRequest.createInstance(tissueServer.getPath(), downsample, annotation.getROI())\n",
    "    def tissuePath = buildFilePath(pathOutput, name_tissue + '.tif')\n",
    "    def edemaPath = buildFilePath(pathOutput, name_gaps + '.tif')\n",
    "\n",
    "    \n",
    "    writeImageRegion(edemaServer, edema_region, edemaPath)\n",
    "    writeImageRegion(tissueServer, tissue_region, tissuePath)\n",
    "    \n",
    " }"
   ]
  },
  {
   "cell_type": "markdown",
   "metadata": {},
   "source": [
    "### Checking the output \n",
    "The export folder (see above) should now have the following structure: \n",
    "* A folder for each image that was processed. In each of which:  \n",
    "* Two files: One containing the tissue mask (below as \"tissue.tif\"), the other gap segmentation mask (below as \"fluid.tif\")\n",
    "\n",
    "\n",
    "- **export** \n",
    "    - `name_image_1`\n",
    "      - `fluid.tif` \n",
    "      - `tissue.tif`\n",
    "    - `name_image_2`\n",
    "    - `name_image_n`"
   ]
  }
 ],
 "metadata": {
  "language_info": {
   "name": "python"
  }
 },
 "nbformat": 4,
 "nbformat_minor": 2
}
