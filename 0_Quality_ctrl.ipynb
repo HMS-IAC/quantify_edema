{
 "cells": [
  {
   "cell_type": "markdown",
   "metadata": {},
   "source": [
    "# 0. Quality control \n",
    "The method introduced here is not robust to batch effects. \n",
    "Check that all histopathology slices you want to compare were imaged under similar conditions. "
   ]
  },
  {
   "cell_type": "markdown",
   "metadata": {},
   "source": [
    "Example: left and right are tissues imaged under different conditions --- possibly different microscopes.  \n",
    "Visually, the patches differ in sharpness and hue --- however, do not trust your eyes!  \n",
    "Display settings are not representative of [numerical pixel values](https://qupath.readthedocs.io/en/stable/docs/concepts/images.html#choosing-colors).  \n",
    "\n",
    "\n",
    "\n",
    "![image.png](figures/comparison.png)"
   ]
  },
  {
   "cell_type": "markdown",
   "metadata": {},
   "source": [
    "However, the pixelsize of the left and right image differed: \n",
    "0.263 um/px for the image on the left, which is typical for most images of the batch; and 0.254 um/px for the image on the right. \n",
    "Even when correcting calculations for the differences in pixel-size, the two images with a pixelsize of 0.254  \n",
    "are outliers (circled below). These are not comparable, as they were imaged with different microscope settings. "
   ]
  },
  {
   "cell_type": "markdown",
   "metadata": {},
   "source": [
    "![5868_healthy_and_sick.png](./figures/25868_healthy_and_sick.png)"
   ]
  },
  {
   "cell_type": "markdown",
   "metadata": {},
   "source": [
    "Below is a groovy script that prints the pixelsizes and names of images. \n",
    "You can copy/paste it into the QuPath script editor, see [here](https://qupath.readthedocs.io/en/stable/docs/scripting/overview.html#custom-scripts) to learn how.  \n",
    "When [running the script for all images](https://qupath.readthedocs.io/en/stable/docs/scripting/workflows_to_scripts.html#running-a-script-for-multiple-images), it prints the name and average pixelsize of each image --- allowing to scan for outliers in pixelsize. "
   ]
  },
  {
   "cell_type": "code",
   "execution_count": null,
   "metadata": {
    "vscode": {
     "languageId": "plaintext"
    }
   },
   "outputs": [],
   "source": [
    "def imageData = getCurrentImageData()\n",
    "def entry = getProjectEntry()\n",
    "\n",
    "pxsize = imageData.getServer().getPixelCalibration().getAveragedPixelSize()\n",
    "name = entry.getImageName()\n",
    "\n",
    "println (name + \", average pixelsize: \" + pxsize)"
   ]
  },
  {
   "cell_type": "markdown",
   "metadata": {},
   "source": [
    "## Final words\n",
    "There are gazillion of ways in which an image should be excluded from analysis. \n",
    "In this example, differences in pixelsize were symptomatic of more ellusive differences in sample preparation. \n",
    "\n",
    "In your own case, pixelsize may not give outliers away. \n",
    "\n",
    "However no matter why you chose to exclude images, you should follow the following principle: \n",
    "Identify problematic images *before* running further analyses. Else you may find justifications for unexpected results, thus biasing the analysis. "
   ]
  }
 ],
 "metadata": {
  "language_info": {
   "name": "python"
  }
 },
 "nbformat": 4,
 "nbformat_minor": 2
}
